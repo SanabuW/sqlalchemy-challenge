{
 "cells": [
  {
   "cell_type": "markdown",
   "metadata": {},
   "source": [
    "# Bonus: Temperature Analysis I"
   ]
  },
  {
   "cell_type": "code",
   "execution_count": 2,
   "metadata": {},
   "outputs": [],
   "source": [
    "import pandas as pd\n",
    "from datetime import datetime as dt"
   ]
  },
  {
   "cell_type": "code",
   "execution_count": 3,
   "metadata": {},
   "outputs": [
    {
     "output_type": "execute_result",
     "data": {
      "text/plain": [
       "       station        date  prcp  tobs\n",
       "0  USC00519397  2010-01-01  0.08    65\n",
       "1  USC00519397  2010-01-02  0.00    63\n",
       "2  USC00519397  2010-01-03  0.00    74\n",
       "3  USC00519397  2010-01-04  0.00    76\n",
       "4  USC00519397  2010-01-06   NaN    73"
      ],
      "text/html": "<div>\n<style scoped>\n    .dataframe tbody tr th:only-of-type {\n        vertical-align: middle;\n    }\n\n    .dataframe tbody tr th {\n        vertical-align: top;\n    }\n\n    .dataframe thead th {\n        text-align: right;\n    }\n</style>\n<table border=\"1\" class=\"dataframe\">\n  <thead>\n    <tr style=\"text-align: right;\">\n      <th></th>\n      <th>station</th>\n      <th>date</th>\n      <th>prcp</th>\n      <th>tobs</th>\n    </tr>\n  </thead>\n  <tbody>\n    <tr>\n      <th>0</th>\n      <td>USC00519397</td>\n      <td>2010-01-01</td>\n      <td>0.08</td>\n      <td>65</td>\n    </tr>\n    <tr>\n      <th>1</th>\n      <td>USC00519397</td>\n      <td>2010-01-02</td>\n      <td>0.00</td>\n      <td>63</td>\n    </tr>\n    <tr>\n      <th>2</th>\n      <td>USC00519397</td>\n      <td>2010-01-03</td>\n      <td>0.00</td>\n      <td>74</td>\n    </tr>\n    <tr>\n      <th>3</th>\n      <td>USC00519397</td>\n      <td>2010-01-04</td>\n      <td>0.00</td>\n      <td>76</td>\n    </tr>\n    <tr>\n      <th>4</th>\n      <td>USC00519397</td>\n      <td>2010-01-06</td>\n      <td>NaN</td>\n      <td>73</td>\n    </tr>\n  </tbody>\n</table>\n</div>"
     },
     "metadata": {},
     "execution_count": 3
    }
   ],
   "source": [
    "# \"tobs\" is \"temperature observations\"\n",
    "df = pd.read_csv('Resources/hawaii_measurements.csv')\n",
    "df.head()"
   ]
  },
  {
   "cell_type": "code",
   "execution_count": 4,
   "metadata": {},
   "outputs": [
    {
     "output_type": "execute_result",
     "data": {
      "text/plain": [
       "0       2010-01-01\n",
       "1       2010-01-02\n",
       "2       2010-01-03\n",
       "3       2010-01-04\n",
       "4       2010-01-06\n",
       "           ...    \n",
       "19545   2017-08-19\n",
       "19546   2017-08-20\n",
       "19547   2017-08-21\n",
       "19548   2017-08-22\n",
       "19549   2017-08-23\n",
       "Name: date_obj, Length: 19550, dtype: datetime64[ns]"
      ]
     },
     "metadata": {},
     "execution_count": 4
    }
   ],
   "source": [
    "# Convert the date column format from string to datetime\\\n",
    "df[\"date_obj\"] = pd.to_datetime(df[\"date\"], format = \"%Y-%m-%d\")\n",
    "df[\"date_obj\"]"
   ]
  },
  {
   "cell_type": "code",
   "execution_count": 5,
   "metadata": {},
   "outputs": [
    {
     "output_type": "execute_result",
     "data": {
      "text/plain": [
       "                station        date  prcp  tobs\n",
       "date_obj                                       \n",
       "2010-01-01  USC00519397  2010-01-01  0.08    65\n",
       "2010-01-02  USC00519397  2010-01-02  0.00    63\n",
       "2010-01-03  USC00519397  2010-01-03  0.00    74\n",
       "2010-01-04  USC00519397  2010-01-04  0.00    76\n",
       "2010-01-06  USC00519397  2010-01-06   NaN    73\n",
       "...                 ...         ...   ...   ...\n",
       "2017-08-19  USC00516128  2017-08-19  0.09    71\n",
       "2017-08-20  USC00516128  2017-08-20   NaN    78\n",
       "2017-08-21  USC00516128  2017-08-21  0.56    76\n",
       "2017-08-22  USC00516128  2017-08-22  0.50    76\n",
       "2017-08-23  USC00516128  2017-08-23  0.45    76\n",
       "\n",
       "[19550 rows x 4 columns]"
      ],
      "text/html": "<div>\n<style scoped>\n    .dataframe tbody tr th:only-of-type {\n        vertical-align: middle;\n    }\n\n    .dataframe tbody tr th {\n        vertical-align: top;\n    }\n\n    .dataframe thead th {\n        text-align: right;\n    }\n</style>\n<table border=\"1\" class=\"dataframe\">\n  <thead>\n    <tr style=\"text-align: right;\">\n      <th></th>\n      <th>station</th>\n      <th>date</th>\n      <th>prcp</th>\n      <th>tobs</th>\n    </tr>\n    <tr>\n      <th>date_obj</th>\n      <th></th>\n      <th></th>\n      <th></th>\n      <th></th>\n    </tr>\n  </thead>\n  <tbody>\n    <tr>\n      <th>2010-01-01</th>\n      <td>USC00519397</td>\n      <td>2010-01-01</td>\n      <td>0.08</td>\n      <td>65</td>\n    </tr>\n    <tr>\n      <th>2010-01-02</th>\n      <td>USC00519397</td>\n      <td>2010-01-02</td>\n      <td>0.00</td>\n      <td>63</td>\n    </tr>\n    <tr>\n      <th>2010-01-03</th>\n      <td>USC00519397</td>\n      <td>2010-01-03</td>\n      <td>0.00</td>\n      <td>74</td>\n    </tr>\n    <tr>\n      <th>2010-01-04</th>\n      <td>USC00519397</td>\n      <td>2010-01-04</td>\n      <td>0.00</td>\n      <td>76</td>\n    </tr>\n    <tr>\n      <th>2010-01-06</th>\n      <td>USC00519397</td>\n      <td>2010-01-06</td>\n      <td>NaN</td>\n      <td>73</td>\n    </tr>\n    <tr>\n      <th>...</th>\n      <td>...</td>\n      <td>...</td>\n      <td>...</td>\n      <td>...</td>\n    </tr>\n    <tr>\n      <th>2017-08-19</th>\n      <td>USC00516128</td>\n      <td>2017-08-19</td>\n      <td>0.09</td>\n      <td>71</td>\n    </tr>\n    <tr>\n      <th>2017-08-20</th>\n      <td>USC00516128</td>\n      <td>2017-08-20</td>\n      <td>NaN</td>\n      <td>78</td>\n    </tr>\n    <tr>\n      <th>2017-08-21</th>\n      <td>USC00516128</td>\n      <td>2017-08-21</td>\n      <td>0.56</td>\n      <td>76</td>\n    </tr>\n    <tr>\n      <th>2017-08-22</th>\n      <td>USC00516128</td>\n      <td>2017-08-22</td>\n      <td>0.50</td>\n      <td>76</td>\n    </tr>\n    <tr>\n      <th>2017-08-23</th>\n      <td>USC00516128</td>\n      <td>2017-08-23</td>\n      <td>0.45</td>\n      <td>76</td>\n    </tr>\n  </tbody>\n</table>\n<p>19550 rows × 4 columns</p>\n</div>"
     },
     "metadata": {},
     "execution_count": 5
    }
   ],
   "source": [
    "# Set the date column as the DataFrame index\n",
    "df_reindex = df.set_index(\"date_obj\")\n",
    "df_reindex"
   ]
  },
  {
   "cell_type": "code",
   "execution_count": 6,
   "metadata": {},
   "outputs": [
    {
     "output_type": "execute_result",
     "data": {
      "text/plain": [
       "                station  prcp  tobs\n",
       "date_obj                           \n",
       "2010-01-01  USC00519397  0.08    65\n",
       "2010-01-02  USC00519397  0.00    63\n",
       "2010-01-03  USC00519397  0.00    74\n",
       "2010-01-04  USC00519397  0.00    76\n",
       "2010-01-06  USC00519397   NaN    73\n",
       "...                 ...   ...   ...\n",
       "2017-08-19  USC00516128  0.09    71\n",
       "2017-08-20  USC00516128   NaN    78\n",
       "2017-08-21  USC00516128  0.56    76\n",
       "2017-08-22  USC00516128  0.50    76\n",
       "2017-08-23  USC00516128  0.45    76\n",
       "\n",
       "[19550 rows x 3 columns]"
      ],
      "text/html": "<div>\n<style scoped>\n    .dataframe tbody tr th:only-of-type {\n        vertical-align: middle;\n    }\n\n    .dataframe tbody tr th {\n        vertical-align: top;\n    }\n\n    .dataframe thead th {\n        text-align: right;\n    }\n</style>\n<table border=\"1\" class=\"dataframe\">\n  <thead>\n    <tr style=\"text-align: right;\">\n      <th></th>\n      <th>station</th>\n      <th>prcp</th>\n      <th>tobs</th>\n    </tr>\n    <tr>\n      <th>date_obj</th>\n      <th></th>\n      <th></th>\n      <th></th>\n    </tr>\n  </thead>\n  <tbody>\n    <tr>\n      <th>2010-01-01</th>\n      <td>USC00519397</td>\n      <td>0.08</td>\n      <td>65</td>\n    </tr>\n    <tr>\n      <th>2010-01-02</th>\n      <td>USC00519397</td>\n      <td>0.00</td>\n      <td>63</td>\n    </tr>\n    <tr>\n      <th>2010-01-03</th>\n      <td>USC00519397</td>\n      <td>0.00</td>\n      <td>74</td>\n    </tr>\n    <tr>\n      <th>2010-01-04</th>\n      <td>USC00519397</td>\n      <td>0.00</td>\n      <td>76</td>\n    </tr>\n    <tr>\n      <th>2010-01-06</th>\n      <td>USC00519397</td>\n      <td>NaN</td>\n      <td>73</td>\n    </tr>\n    <tr>\n      <th>...</th>\n      <td>...</td>\n      <td>...</td>\n      <td>...</td>\n    </tr>\n    <tr>\n      <th>2017-08-19</th>\n      <td>USC00516128</td>\n      <td>0.09</td>\n      <td>71</td>\n    </tr>\n    <tr>\n      <th>2017-08-20</th>\n      <td>USC00516128</td>\n      <td>NaN</td>\n      <td>78</td>\n    </tr>\n    <tr>\n      <th>2017-08-21</th>\n      <td>USC00516128</td>\n      <td>0.56</td>\n      <td>76</td>\n    </tr>\n    <tr>\n      <th>2017-08-22</th>\n      <td>USC00516128</td>\n      <td>0.50</td>\n      <td>76</td>\n    </tr>\n    <tr>\n      <th>2017-08-23</th>\n      <td>USC00516128</td>\n      <td>0.45</td>\n      <td>76</td>\n    </tr>\n  </tbody>\n</table>\n<p>19550 rows × 3 columns</p>\n</div>"
     },
     "metadata": {},
     "execution_count": 6
    }
   ],
   "source": [
    "# Drop the date column\n",
    "df_reindex.drop(\"date\", axis = 1, inplace = True)\n",
    "df_reindex"
   ]
  },
  {
   "cell_type": "markdown",
   "metadata": {},
   "source": [
    "### Compare June and December data across all years "
   ]
  },
  {
   "cell_type": "code",
   "execution_count": 7,
   "metadata": {},
   "outputs": [],
   "source": [
    "from scipy import stats"
   ]
  },
  {
   "cell_type": "code",
   "execution_count": 21,
   "metadata": {},
   "outputs": [
    {
     "output_type": "execute_result",
     "data": {
      "text/plain": [
       "                station  prcp  tobs\n",
       "date_obj                           \n",
       "2010-06-01  USC00519397  0.00    78\n",
       "2010-06-02  USC00519397  0.01    76\n",
       "2010-06-03  USC00519397  0.00    78\n",
       "2010-06-04  USC00519397  0.00    76\n",
       "2010-06-05  USC00519397  0.00    77\n",
       "...                 ...   ...   ...\n",
       "2017-06-26  USC00516128  0.02    79\n",
       "2017-06-27  USC00516128  0.10    74\n",
       "2017-06-28  USC00516128  0.02    74\n",
       "2017-06-29  USC00516128  0.04    76\n",
       "2017-06-30  USC00516128  0.20    75\n",
       "\n",
       "[3217 rows x 3 columns]"
      ],
      "text/html": "<div>\n<style scoped>\n    .dataframe tbody tr th:only-of-type {\n        vertical-align: middle;\n    }\n\n    .dataframe tbody tr th {\n        vertical-align: top;\n    }\n\n    .dataframe thead th {\n        text-align: right;\n    }\n</style>\n<table border=\"1\" class=\"dataframe\">\n  <thead>\n    <tr style=\"text-align: right;\">\n      <th></th>\n      <th>station</th>\n      <th>prcp</th>\n      <th>tobs</th>\n    </tr>\n    <tr>\n      <th>date_obj</th>\n      <th></th>\n      <th></th>\n      <th></th>\n    </tr>\n  </thead>\n  <tbody>\n    <tr>\n      <th>2010-06-01</th>\n      <td>USC00519397</td>\n      <td>0.00</td>\n      <td>78</td>\n    </tr>\n    <tr>\n      <th>2010-06-02</th>\n      <td>USC00519397</td>\n      <td>0.01</td>\n      <td>76</td>\n    </tr>\n    <tr>\n      <th>2010-06-03</th>\n      <td>USC00519397</td>\n      <td>0.00</td>\n      <td>78</td>\n    </tr>\n    <tr>\n      <th>2010-06-04</th>\n      <td>USC00519397</td>\n      <td>0.00</td>\n      <td>76</td>\n    </tr>\n    <tr>\n      <th>2010-06-05</th>\n      <td>USC00519397</td>\n      <td>0.00</td>\n      <td>77</td>\n    </tr>\n    <tr>\n      <th>...</th>\n      <td>...</td>\n      <td>...</td>\n      <td>...</td>\n    </tr>\n    <tr>\n      <th>2017-06-26</th>\n      <td>USC00516128</td>\n      <td>0.02</td>\n      <td>79</td>\n    </tr>\n    <tr>\n      <th>2017-06-27</th>\n      <td>USC00516128</td>\n      <td>0.10</td>\n      <td>74</td>\n    </tr>\n    <tr>\n      <th>2017-06-28</th>\n      <td>USC00516128</td>\n      <td>0.02</td>\n      <td>74</td>\n    </tr>\n    <tr>\n      <th>2017-06-29</th>\n      <td>USC00516128</td>\n      <td>0.04</td>\n      <td>76</td>\n    </tr>\n    <tr>\n      <th>2017-06-30</th>\n      <td>USC00516128</td>\n      <td>0.20</td>\n      <td>75</td>\n    </tr>\n  </tbody>\n</table>\n<p>3217 rows × 3 columns</p>\n</div>"
     },
     "metadata": {},
     "execution_count": 21
    }
   ],
   "source": [
    "# Filter data for desired months\n",
    "df_2mo_only = df_reindex.loc[(df_reindex.index.strftime(\"%m\") == \"06\") | (df_reindex.index.strftime(\"%m\") == \"12\")]\n",
    "df_2mo_only"
   ]
  },
  {
   "cell_type": "code",
   "execution_count": 67,
   "metadata": {},
   "outputs": [
    {
     "output_type": "execute_result",
     "data": {
      "text/plain": [
       "74.94"
      ]
     },
     "metadata": {},
     "execution_count": 67
    }
   ],
   "source": [
    "# Identify the average temperature for June\n",
    "df_jun_only = df_2mo_only.loc[(df_2mo_only.index.strftime(\"%m\") == \"06\"),[\"tobs\"]]\n",
    "df_jun_group = df_jun_only.groupby(df_jun_only.index.month == \"06\")\n",
    "round(df_jun_group.mean().iloc[0,0], 2)"
   ]
  },
  {
   "cell_type": "code",
   "execution_count": 68,
   "metadata": {},
   "outputs": [
    {
     "output_type": "execute_result",
     "data": {
      "text/plain": [
       "71.04"
      ]
     },
     "metadata": {},
     "execution_count": 68
    }
   ],
   "source": [
    "# Identify the average temperature for December\n",
    "df_dec_only = df_2mo_only.loc[(df_2mo_only.index.strftime(\"%m\") == \"12\"),[\"tobs\"]]\n",
    "df_dec_group = df_dec_only.groupby(df_dec_only.index.month == \"12\")\n",
    "round(df_dec_group.mean().iloc[0,0], 2)"
   ]
  },
  {
   "cell_type": "code",
   "execution_count": 69,
   "metadata": {},
   "outputs": [],
   "source": [
    "# Create collections of temperature data\n",
    "jun_list = df_jun_only[\"tobs\"].tolist()\n",
    "dec_list = df_dec_only[\"tobs\"].tolist()\n"
   ]
  },
  {
   "cell_type": "code",
   "execution_count": 77,
   "metadata": {},
   "outputs": [
    {
     "output_type": "stream",
     "name": "stdout",
     "text": [
      "T-stat: 31.60372399000329\nP-value: 3.9025129038616655e-191\n"
     ]
    }
   ],
   "source": [
    "# Run paired t-test\n",
    "t_stat, p_value = stats.ttest_ind(jun_list, dec_list)\n",
    "print(f'T-stat: {t_stat}')\n",
    "print(f'P-value: {p_value}')"
   ]
  },
  {
   "cell_type": "markdown",
   "metadata": {},
   "source": [
    "### Analysis"
   ]
  },
  {
   "cell_type": "code",
   "execution_count": 80,
   "metadata": {},
   "outputs": [
    {
     "output_type": "stream",
     "name": "stdout",
     "text": [
      "With a p-value of near zero, the null hypothesis that the differences between the average temperatures between July and December is due to error, can be rejected. This implies that some specific factor has a direct effect on creating this difference (i.e. the season)\n"
     ]
    }
   ],
   "source": [
    "print(f'With a p-value of near zero, the null hypothesis that the differences between the average temperatures between July and December is due to error, can be rejected. This implies that some specific factor has a direct effect on creating this difference (i.e. the season)')"
   ]
  },
  {
   "cell_type": "code",
   "execution_count": null,
   "metadata": {},
   "outputs": [],
   "source": []
  }
 ],
 "metadata": {
  "kernelspec": {
   "display_name": "Python 3",
   "language": "python",
   "name": "python3"
  },
  "language_info": {
   "codemirror_mode": {
    "name": "ipython",
    "version": 3
   },
   "file_extension": ".py",
   "mimetype": "text/x-python",
   "name": "python",
   "nbconvert_exporter": "python",
   "pygments_lexer": "ipython3",
   "version": "3.8.3-final"
  }
 },
 "nbformat": 4,
 "nbformat_minor": 4
}